{
 "cells": [
  {
   "cell_type": "code",
   "execution_count": 2,
   "id": "3640c0e8",
   "metadata": {},
   "outputs": [
    {
     "name": "stderr",
     "output_type": "stream",
     "text": [
      "WARNING: pip is being invoked by an old script wrapper. This will fail in a future version of pip.\n",
      "Please see https://github.com/pypa/pip/issues/5599 for advice on fixing the underlying issue.\n",
      "To avoid this problem you can invoke Python with '-m pip' instead of running pip directly.\n"
     ]
    },
    {
     "name": "stdout",
     "output_type": "stream",
     "text": [
      "Defaulting to user installation because normal site-packages is not writeable\n",
      "Collecting geopandas\n",
      "  Downloading geopandas-0.9.0-py2.py3-none-any.whl (994 kB)\n",
      "Collecting shapely>=1.6\n",
      "  Downloading Shapely-1.8.5.post1-cp36-cp36m-win_amd64.whl (1.3 MB)\n",
      "Requirement already satisfied: pandas>=0.24.0 in c:\\users\\soner\\appdata\\roaming\\python\\python36\\site-packages (from geopandas) (1.1.5)\n",
      "Collecting fiona>=1.8\n",
      "  Downloading Fiona-1.8.22-cp36-cp36m-win_amd64.whl (21.8 MB)\n",
      "Collecting pyproj>=2.2.0\n",
      "  Downloading pyproj-3.0.1-cp36-cp36m-win_amd64.whl (14.6 MB)\n",
      "Requirement already satisfied: six>=1.7 in c:\\users\\soner\\appdata\\roaming\\python\\python36\\site-packages (from fiona>=1.8->geopandas) (1.16.0)\n",
      "Collecting cligj>=0.5\n",
      "  Downloading cligj-0.7.2-py3-none-any.whl (7.1 kB)\n",
      "Requirement already satisfied: click>=4.0 in c:\\users\\soner\\appdata\\roaming\\python\\python36\\site-packages (from fiona>=1.8->geopandas) (8.0.4)\n",
      "Requirement already satisfied: attrs>=17 in c:\\users\\soner\\appdata\\roaming\\python\\python36\\site-packages (from fiona>=1.8->geopandas) (22.2.0)\n",
      "Requirement already satisfied: certifi in c:\\users\\soner\\appdata\\roaming\\python\\python36\\site-packages (from fiona>=1.8->geopandas) (2024.2.2)\n",
      "Collecting click-plugins>=1.0\n",
      "  Downloading click_plugins-1.1.1-py2.py3-none-any.whl (7.5 kB)\n",
      "Requirement already satisfied: setuptools in c:\\users\\soner\\appdata\\roaming\\python\\python36\\site-packages (from fiona>=1.8->geopandas) (59.6.0)\n",
      "Collecting munch\n",
      "  Downloading munch-4.0.0-py2.py3-none-any.whl (9.9 kB)\n",
      "Requirement already satisfied: numpy>=1.15.4 in c:\\users\\soner\\appdata\\roaming\\python\\python36\\site-packages (from pandas>=0.24.0->geopandas) (1.19.5)\n",
      "Requirement already satisfied: pytz>=2017.2 in c:\\users\\soner\\appdata\\roaming\\python\\python36\\site-packages (from pandas>=0.24.0->geopandas) (2023.3)\n",
      "Requirement already satisfied: python-dateutil>=2.7.3 in c:\\users\\soner\\appdata\\roaming\\python\\python36\\site-packages (from pandas>=0.24.0->geopandas) (2.8.2)\n",
      "Requirement already satisfied: importlib-metadata in c:\\users\\soner\\appdata\\roaming\\python\\python36\\site-packages (from click>=4.0->fiona>=1.8->geopandas) (4.8.3)\n",
      "Requirement already satisfied: colorama in c:\\users\\soner\\appdata\\roaming\\python\\python36\\site-packages (from click>=4.0->fiona>=1.8->geopandas) (0.4.5)\n",
      "Requirement already satisfied: typing-extensions>=3.6.4 in c:\\users\\soner\\appdata\\roaming\\python\\python36\\site-packages (from importlib-metadata->click>=4.0->fiona>=1.8->geopandas) (4.1.1)\n",
      "Requirement already satisfied: zipp>=0.5 in c:\\users\\soner\\appdata\\roaming\\python\\python36\\site-packages (from importlib-metadata->click>=4.0->fiona>=1.8->geopandas) (3.6.0)\n",
      "Installing collected packages: munch, cligj, click-plugins, shapely, pyproj, fiona, geopandas\n",
      "Successfully installed click-plugins-1.1.1 cligj-0.7.2 fiona-1.8.22 geopandas-0.9.0 munch-4.0.0 pyproj-3.0.1 shapely-1.8.5.post1\n"
     ]
    }
   ],
   "source": [
    "! pip install geopandas\n",
    "\n",
    "\n",
    "import pandas as pd\n",
    "import geopandas as gpd\n",
    "import matplotlib.pyplot as plt"
   ]
  },
  {
   "cell_type": "code",
   "execution_count": 6,
   "id": "dd04fa5b",
   "metadata": {},
   "outputs": [
    {
     "name": "stdout",
     "output_type": "stream",
     "text": [
      "79\n",
      "81\n"
     ]
    },
    {
     "ename": "ValueError",
     "evalue": "arrays must all be same length",
     "output_type": "error",
     "traceback": [
      "\u001b[1;31m---------------------------------------------------------------------------\u001b[0m",
      "\u001b[1;31mValueError\u001b[0m                                Traceback (most recent call last)",
      "\u001b[1;32m<ipython-input-6-6a5409801c6b>\u001b[0m in \u001b[0;36m<module>\u001b[1;34m\u001b[0m\n\u001b[0;32m      9\u001b[0m \u001b[1;33m\u001b[0m\u001b[0m\n\u001b[0;32m     10\u001b[0m \u001b[1;31m# Convert the data into a DataFrame\u001b[0m\u001b[1;33m\u001b[0m\u001b[1;33m\u001b[0m\u001b[1;33m\u001b[0m\u001b[0m\n\u001b[1;32m---> 11\u001b[1;33m \u001b[0miq_df\u001b[0m \u001b[1;33m=\u001b[0m \u001b[0mpd\u001b[0m\u001b[1;33m.\u001b[0m\u001b[0mDataFrame\u001b[0m\u001b[1;33m(\u001b[0m\u001b[0mdata\u001b[0m\u001b[1;33m)\u001b[0m\u001b[1;33m\u001b[0m\u001b[1;33m\u001b[0m\u001b[0m\n\u001b[0m",
      "\u001b[1;32m~\\AppData\\Roaming\\Python\\Python36\\site-packages\\pandas\\core\\frame.py\u001b[0m in \u001b[0;36m__init__\u001b[1;34m(self, data, index, columns, dtype, copy)\u001b[0m\n\u001b[0;32m    466\u001b[0m \u001b[1;33m\u001b[0m\u001b[0m\n\u001b[0;32m    467\u001b[0m         \u001b[1;32melif\u001b[0m \u001b[0misinstance\u001b[0m\u001b[1;33m(\u001b[0m\u001b[0mdata\u001b[0m\u001b[1;33m,\u001b[0m \u001b[0mdict\u001b[0m\u001b[1;33m)\u001b[0m\u001b[1;33m:\u001b[0m\u001b[1;33m\u001b[0m\u001b[1;33m\u001b[0m\u001b[0m\n\u001b[1;32m--> 468\u001b[1;33m             \u001b[0mmgr\u001b[0m \u001b[1;33m=\u001b[0m \u001b[0minit_dict\u001b[0m\u001b[1;33m(\u001b[0m\u001b[0mdata\u001b[0m\u001b[1;33m,\u001b[0m \u001b[0mindex\u001b[0m\u001b[1;33m,\u001b[0m \u001b[0mcolumns\u001b[0m\u001b[1;33m,\u001b[0m \u001b[0mdtype\u001b[0m\u001b[1;33m=\u001b[0m\u001b[0mdtype\u001b[0m\u001b[1;33m)\u001b[0m\u001b[1;33m\u001b[0m\u001b[1;33m\u001b[0m\u001b[0m\n\u001b[0m\u001b[0;32m    469\u001b[0m         \u001b[1;32melif\u001b[0m \u001b[0misinstance\u001b[0m\u001b[1;33m(\u001b[0m\u001b[0mdata\u001b[0m\u001b[1;33m,\u001b[0m \u001b[0mma\u001b[0m\u001b[1;33m.\u001b[0m\u001b[0mMaskedArray\u001b[0m\u001b[1;33m)\u001b[0m\u001b[1;33m:\u001b[0m\u001b[1;33m\u001b[0m\u001b[1;33m\u001b[0m\u001b[0m\n\u001b[0;32m    470\u001b[0m             \u001b[1;32mimport\u001b[0m \u001b[0mnumpy\u001b[0m\u001b[1;33m.\u001b[0m\u001b[0mma\u001b[0m\u001b[1;33m.\u001b[0m\u001b[0mmrecords\u001b[0m \u001b[1;32mas\u001b[0m \u001b[0mmrecords\u001b[0m\u001b[1;33m\u001b[0m\u001b[1;33m\u001b[0m\u001b[0m\n",
      "\u001b[1;32m~\\AppData\\Roaming\\Python\\Python36\\site-packages\\pandas\\core\\internals\\construction.py\u001b[0m in \u001b[0;36minit_dict\u001b[1;34m(data, index, columns, dtype)\u001b[0m\n\u001b[0;32m    281\u001b[0m             \u001b[0marr\u001b[0m \u001b[1;32mif\u001b[0m \u001b[1;32mnot\u001b[0m \u001b[0mis_datetime64tz_dtype\u001b[0m\u001b[1;33m(\u001b[0m\u001b[0marr\u001b[0m\u001b[1;33m)\u001b[0m \u001b[1;32melse\u001b[0m \u001b[0marr\u001b[0m\u001b[1;33m.\u001b[0m\u001b[0mcopy\u001b[0m\u001b[1;33m(\u001b[0m\u001b[1;33m)\u001b[0m \u001b[1;32mfor\u001b[0m \u001b[0marr\u001b[0m \u001b[1;32min\u001b[0m \u001b[0marrays\u001b[0m\u001b[1;33m\u001b[0m\u001b[1;33m\u001b[0m\u001b[0m\n\u001b[0;32m    282\u001b[0m         ]\n\u001b[1;32m--> 283\u001b[1;33m     \u001b[1;32mreturn\u001b[0m \u001b[0marrays_to_mgr\u001b[0m\u001b[1;33m(\u001b[0m\u001b[0marrays\u001b[0m\u001b[1;33m,\u001b[0m \u001b[0mdata_names\u001b[0m\u001b[1;33m,\u001b[0m \u001b[0mindex\u001b[0m\u001b[1;33m,\u001b[0m \u001b[0mcolumns\u001b[0m\u001b[1;33m,\u001b[0m \u001b[0mdtype\u001b[0m\u001b[1;33m=\u001b[0m\u001b[0mdtype\u001b[0m\u001b[1;33m)\u001b[0m\u001b[1;33m\u001b[0m\u001b[1;33m\u001b[0m\u001b[0m\n\u001b[0m\u001b[0;32m    284\u001b[0m \u001b[1;33m\u001b[0m\u001b[0m\n\u001b[0;32m    285\u001b[0m \u001b[1;33m\u001b[0m\u001b[0m\n",
      "\u001b[1;32m~\\AppData\\Roaming\\Python\\Python36\\site-packages\\pandas\\core\\internals\\construction.py\u001b[0m in \u001b[0;36marrays_to_mgr\u001b[1;34m(arrays, arr_names, index, columns, dtype, verify_integrity)\u001b[0m\n\u001b[0;32m     76\u001b[0m         \u001b[1;31m# figure out the index, if necessary\u001b[0m\u001b[1;33m\u001b[0m\u001b[1;33m\u001b[0m\u001b[1;33m\u001b[0m\u001b[0m\n\u001b[0;32m     77\u001b[0m         \u001b[1;32mif\u001b[0m \u001b[0mindex\u001b[0m \u001b[1;32mis\u001b[0m \u001b[1;32mNone\u001b[0m\u001b[1;33m:\u001b[0m\u001b[1;33m\u001b[0m\u001b[1;33m\u001b[0m\u001b[0m\n\u001b[1;32m---> 78\u001b[1;33m             \u001b[0mindex\u001b[0m \u001b[1;33m=\u001b[0m \u001b[0mextract_index\u001b[0m\u001b[1;33m(\u001b[0m\u001b[0marrays\u001b[0m\u001b[1;33m)\u001b[0m\u001b[1;33m\u001b[0m\u001b[1;33m\u001b[0m\u001b[0m\n\u001b[0m\u001b[0;32m     79\u001b[0m         \u001b[1;32melse\u001b[0m\u001b[1;33m:\u001b[0m\u001b[1;33m\u001b[0m\u001b[1;33m\u001b[0m\u001b[0m\n\u001b[0;32m     80\u001b[0m             \u001b[0mindex\u001b[0m \u001b[1;33m=\u001b[0m \u001b[0mensure_index\u001b[0m\u001b[1;33m(\u001b[0m\u001b[0mindex\u001b[0m\u001b[1;33m)\u001b[0m\u001b[1;33m\u001b[0m\u001b[1;33m\u001b[0m\u001b[0m\n",
      "\u001b[1;32m~\\AppData\\Roaming\\Python\\Python36\\site-packages\\pandas\\core\\internals\\construction.py\u001b[0m in \u001b[0;36mextract_index\u001b[1;34m(data)\u001b[0m\n\u001b[0;32m    395\u001b[0m             \u001b[0mlengths\u001b[0m \u001b[1;33m=\u001b[0m \u001b[0mlist\u001b[0m\u001b[1;33m(\u001b[0m\u001b[0mset\u001b[0m\u001b[1;33m(\u001b[0m\u001b[0mraw_lengths\u001b[0m\u001b[1;33m)\u001b[0m\u001b[1;33m)\u001b[0m\u001b[1;33m\u001b[0m\u001b[1;33m\u001b[0m\u001b[0m\n\u001b[0;32m    396\u001b[0m             \u001b[1;32mif\u001b[0m \u001b[0mlen\u001b[0m\u001b[1;33m(\u001b[0m\u001b[0mlengths\u001b[0m\u001b[1;33m)\u001b[0m \u001b[1;33m>\u001b[0m \u001b[1;36m1\u001b[0m\u001b[1;33m:\u001b[0m\u001b[1;33m\u001b[0m\u001b[1;33m\u001b[0m\u001b[0m\n\u001b[1;32m--> 397\u001b[1;33m                 \u001b[1;32mraise\u001b[0m \u001b[0mValueError\u001b[0m\u001b[1;33m(\u001b[0m\u001b[1;34m\"arrays must all be same length\"\u001b[0m\u001b[1;33m)\u001b[0m\u001b[1;33m\u001b[0m\u001b[1;33m\u001b[0m\u001b[0m\n\u001b[0m\u001b[0;32m    398\u001b[0m \u001b[1;33m\u001b[0m\u001b[0m\n\u001b[0;32m    399\u001b[0m             \u001b[1;32mif\u001b[0m \u001b[0mhave_dicts\u001b[0m\u001b[1;33m:\u001b[0m\u001b[1;33m\u001b[0m\u001b[1;33m\u001b[0m\u001b[0m\n",
      "\u001b[1;31mValueError\u001b[0m: arrays must all be same length"
     ]
    }
   ],
   "source": [
    "# IQ Average for all the cities in Türkiye\n",
    "data = {\n",
    "    'city': ['Bingöl', 'Siirt', 'Hakkari', 'Artvin', 'Kars', 'Bitlis', 'Ağrı', 'Düzce', 'Iğdır', 'Amasya', 'Erzincan', 'Bilecik', 'Adıyaman', 'Ardahan', 'Hatay', 'Çankırı', 'Muş', 'Van', 'Yozgat', 'Şanlıurfa', 'Bayburt', 'Şırnak', 'Elazığ', 'Batman', 'Adana', 'Erzurum', 'Manisa', 'Tokat', 'Kilis', 'Diyarbakır', 'Kahramanmaraş', 'Mardin', 'Gaziantep', 'Ordu', 'Niğde', 'Aksaray', 'Malatya', 'Kastamonu', 'Nevşehir', 'Isparta', 'Sivas', 'Burdur', 'Afyonkarahisar', 'Gümüşhane', 'Sinop', 'Aydın', 'Osmaniye', 'Kırıkkale', 'Giresun', 'Mersin', 'Karabük', 'Samsun', 'Çorum', 'Bolu', 'Tunceli', 'Edirne', 'Kayseri', 'Kütahya', 'Kırşehir', 'Sakarya', 'Bartın', 'Denizli', 'Rize', 'Konya', 'Uşak', 'Karaman', 'Yalova', 'Zonguldak', 'Tekirdağ', 'Antalya', 'Trabzon', 'Kırklareli', 'Bursa', 'Balıkesir', 'Kocaeli', 'İstanbul', 'Çanakkale', 'Muğla', 'İzmir', 'Ankara', 'Eskişehir'],\n",
    "    'iq': [94.19, 94.52, 95.16, 95.36, 95.84, 95.96, 96.06, 96.26, 96.69, 96.88, 96.97, 97.14, 97.29, 97.33, 97.36, 97.53, 97.73, 97.74, 98.05, 98.07, 98.29, 98.43, 98.46, 98.75, 98.76, 98.97, 99.06, 99.09, 99.14, 99.19, 99.28, 99.32, 99.40, 99.58, 99.60, 99.63, 99.75, 99.98, 100.01, 100.06, 100.09, 100.15, 100.17, 100.24, 100.29, 100.34, 100.39, 100.46, 100.56, 100.71, 100.85, 100.87, 100.95, 100.99, 101.17, 101.28, 101.42, 101.65, 101.74, 101.78, 102.13, 102.14, 102.32, 102.36, 102.37, 102.52, 102.58, 102.68, 102.82, 103.29, 103.37, 103.38, 103.47, 103.59, 103.85, 104.02, 104.02, 104.12, 104.51, 104.91, 105.20]\n",
    "}\n",
    "\n",
    "print(len(data['city']))\n",
    "print(len(data['iq']))\n",
    "\n",
    "# Convert the data into a DataFrame\n",
    "iq_df = pd.DataFrame(data)\n"
   ]
  },
  {
   "cell_type": "code",
   "execution_count": null,
   "id": "848aa582",
   "metadata": {},
   "outputs": [],
   "source": [
    "# Load the shapefile (path to the shapefile should be provided)\n",
    "turkish_cities = gpd.read_file('path/to/shapefile.shp')"
   ]
  },
  {
   "cell_type": "code",
   "execution_count": null,
   "id": "788298f1",
   "metadata": {},
   "outputs": [],
   "source": []
  }
 ],
 "metadata": {
  "kernelspec": {
   "display_name": "Python 3",
   "language": "python",
   "name": "python3"
  },
  "language_info": {
   "codemirror_mode": {
    "name": "ipython",
    "version": 3
   },
   "file_extension": ".py",
   "mimetype": "text/x-python",
   "name": "python",
   "nbconvert_exporter": "python",
   "pygments_lexer": "ipython3",
   "version": "3.6.8"
  }
 },
 "nbformat": 4,
 "nbformat_minor": 5
}
